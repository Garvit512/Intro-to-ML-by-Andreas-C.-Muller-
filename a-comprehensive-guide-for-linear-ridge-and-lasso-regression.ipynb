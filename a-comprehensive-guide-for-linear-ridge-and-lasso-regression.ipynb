{
 "cells": [
  {
   "cell_type": "markdown",
   "metadata": {},
   "source": [
    "# A comprehensive guide for Linear, Ridge and Lasso regression"
   ]
  },
  {
   "cell_type": "markdown",
   "metadata": {},
   "source": [
    "**Reference:** https://www.analyticsvidhya.com/blog/2017/06/a-comprehensive-guide-for-linear-ridge-and-lasso-regression/#"
   ]
  },
  {
   "cell_type": "code",
   "execution_count": 1,
   "metadata": {
    "ExecuteTime": {
     "end_time": "2020-10-02T15:58:26.359970Z",
     "start_time": "2020-10-02T15:58:24.904149Z"
    }
   },
   "outputs": [],
   "source": [
    "import pandas as pd\n",
    "import matplotlib.pyplot as plt"
   ]
  },
  {
   "cell_type": "code",
   "execution_count": 2,
   "metadata": {
    "ExecuteTime": {
     "end_time": "2020-10-02T15:58:26.425634Z",
     "start_time": "2020-10-02T15:58:26.361131Z"
    }
   },
   "outputs": [],
   "source": [
    "# loading big mart sales dataset\n",
    "train_set = pd.read_csv('/home/garvit/Downloads/Compressed/bigmart-sales-data/Train.csv')\n",
    "test_set = pd.read_csv('/home/garvit/Downloads/Compressed/bigmart-sales-data/Test.csv')"
   ]
  },
  {
   "cell_type": "code",
   "execution_count": 3,
   "metadata": {
    "ExecuteTime": {
     "end_time": "2020-10-02T15:58:27.642357Z",
     "start_time": "2020-10-02T15:58:27.615161Z"
    }
   },
   "outputs": [
    {
     "data": {
      "text/html": [
       "<div>\n",
       "<style scoped>\n",
       "    .dataframe tbody tr th:only-of-type {\n",
       "        vertical-align: middle;\n",
       "    }\n",
       "\n",
       "    .dataframe tbody tr th {\n",
       "        vertical-align: top;\n",
       "    }\n",
       "\n",
       "    .dataframe thead th {\n",
       "        text-align: right;\n",
       "    }\n",
       "</style>\n",
       "<table border=\"1\" class=\"dataframe\">\n",
       "  <thead>\n",
       "    <tr style=\"text-align: right;\">\n",
       "      <th></th>\n",
       "      <th>Item_Identifier</th>\n",
       "      <th>Item_Weight</th>\n",
       "      <th>Item_Fat_Content</th>\n",
       "      <th>Item_Visibility</th>\n",
       "      <th>Item_Type</th>\n",
       "      <th>Item_MRP</th>\n",
       "      <th>Outlet_Identifier</th>\n",
       "      <th>Outlet_Establishment_Year</th>\n",
       "      <th>Outlet_Size</th>\n",
       "      <th>Outlet_Location_Type</th>\n",
       "      <th>Outlet_Type</th>\n",
       "      <th>Item_Outlet_Sales</th>\n",
       "    </tr>\n",
       "  </thead>\n",
       "  <tbody>\n",
       "    <tr>\n",
       "      <th>8328</th>\n",
       "      <td>FDI57</td>\n",
       "      <td>19.850</td>\n",
       "      <td>Low Fat</td>\n",
       "      <td>0.054246</td>\n",
       "      <td>Seafood</td>\n",
       "      <td>196.0768</td>\n",
       "      <td>OUT018</td>\n",
       "      <td>2009</td>\n",
       "      <td>Medium</td>\n",
       "      <td>Tier 3</td>\n",
       "      <td>Supermarket Type2</td>\n",
       "      <td>5518.1504</td>\n",
       "    </tr>\n",
       "    <tr>\n",
       "      <th>2474</th>\n",
       "      <td>NCB19</td>\n",
       "      <td>6.525</td>\n",
       "      <td>Low Fat</td>\n",
       "      <td>0.090296</td>\n",
       "      <td>Household</td>\n",
       "      <td>84.6882</td>\n",
       "      <td>OUT046</td>\n",
       "      <td>1997</td>\n",
       "      <td>Small</td>\n",
       "      <td>Tier 1</td>\n",
       "      <td>Supermarket Type1</td>\n",
       "      <td>601.2174</td>\n",
       "    </tr>\n",
       "    <tr>\n",
       "      <th>8181</th>\n",
       "      <td>FDV48</td>\n",
       "      <td>NaN</td>\n",
       "      <td>Regular</td>\n",
       "      <td>0.051367</td>\n",
       "      <td>Baking Goods</td>\n",
       "      <td>77.0644</td>\n",
       "      <td>OUT027</td>\n",
       "      <td>1985</td>\n",
       "      <td>Medium</td>\n",
       "      <td>Tier 3</td>\n",
       "      <td>Supermarket Type3</td>\n",
       "      <td>3221.1404</td>\n",
       "    </tr>\n",
       "    <tr>\n",
       "      <th>6803</th>\n",
       "      <td>FDT39</td>\n",
       "      <td>6.260</td>\n",
       "      <td>reg</td>\n",
       "      <td>0.009883</td>\n",
       "      <td>Meat</td>\n",
       "      <td>149.8366</td>\n",
       "      <td>OUT049</td>\n",
       "      <td>1999</td>\n",
       "      <td>Medium</td>\n",
       "      <td>Tier 1</td>\n",
       "      <td>Supermarket Type1</td>\n",
       "      <td>1964.7758</td>\n",
       "    </tr>\n",
       "  </tbody>\n",
       "</table>\n",
       "</div>"
      ],
      "text/plain": [
       "     Item_Identifier  Item_Weight Item_Fat_Content  Item_Visibility  \\\n",
       "8328           FDI57       19.850          Low Fat         0.054246   \n",
       "2474           NCB19        6.525          Low Fat         0.090296   \n",
       "8181           FDV48          NaN          Regular         0.051367   \n",
       "6803           FDT39        6.260              reg         0.009883   \n",
       "\n",
       "         Item_Type  Item_MRP Outlet_Identifier  Outlet_Establishment_Year  \\\n",
       "8328       Seafood  196.0768            OUT018                       2009   \n",
       "2474     Household   84.6882            OUT046                       1997   \n",
       "8181  Baking Goods   77.0644            OUT027                       1985   \n",
       "6803          Meat  149.8366            OUT049                       1999   \n",
       "\n",
       "     Outlet_Size Outlet_Location_Type        Outlet_Type  Item_Outlet_Sales  \n",
       "8328      Medium               Tier 3  Supermarket Type2          5518.1504  \n",
       "2474       Small               Tier 1  Supermarket Type1           601.2174  \n",
       "8181      Medium               Tier 3  Supermarket Type3          3221.1404  \n",
       "6803      Medium               Tier 1  Supermarket Type1          1964.7758  "
      ]
     },
     "execution_count": 3,
     "metadata": {},
     "output_type": "execute_result"
    }
   ],
   "source": [
    "train_set.sample(4)"
   ]
  },
  {
   "cell_type": "code",
   "execution_count": 4,
   "metadata": {
    "ExecuteTime": {
     "end_time": "2020-10-02T15:58:29.786540Z",
     "start_time": "2020-10-02T15:58:29.782486Z"
    }
   },
   "outputs": [
    {
     "data": {
      "text/plain": [
       "(8523, 12)"
      ]
     },
     "execution_count": 4,
     "metadata": {},
     "output_type": "execute_result"
    }
   ],
   "source": [
    "train_set.shape"
   ]
  },
  {
   "cell_type": "code",
   "execution_count": 9,
   "metadata": {
    "ExecuteTime": {
     "end_time": "2020-10-02T10:34:20.103633Z",
     "start_time": "2020-10-02T10:34:19.940994Z"
    }
   },
   "outputs": [
    {
     "data": {
      "text/plain": [
       "<matplotlib.collections.PathCollection at 0x7fee8117b250>"
      ]
     },
     "execution_count": 9,
     "metadata": {},
     "output_type": "execute_result"
    },
    {
     "data": {
      "image/png": "[encoded data removed]",
      "text/plain": [
       "<Figure size 432x288 with 1 Axes>"
      ]
     },
     "metadata": {
      "needs_background": "light"
     },
     "output_type": "display_data"
    }
   ],
   "source": [
    "from matplotlib.pyplot import figure\n",
    "\n",
    "plt.scatter(train_set['Item_MRP'], train_set['Item_Outlet_Sales'])\n",
    "# figure(num=None, figsize=(10, 10), dpi=80, facecolor='w', edgecolor='k')"
   ]
  },
  {
   "cell_type": "code",
   "execution_count": 22,
   "metadata": {
    "ExecuteTime": {
     "end_time": "2020-10-02T14:15:38.244751Z",
     "start_time": "2020-10-02T14:15:38.238799Z"
    }
   },
   "outputs": [],
   "source": [
    "import matplotlib\n",
    "import numpy as np"
   ]
  },
  {
   "cell_type": "markdown",
   "metadata": {},
   "source": [
    "## 5. Using Linear Regression for Prediction\n"
   ]
  },
  {
   "cell_type": "markdown",
   "metadata": {},
   "source": [
    "### Model 3 – Enter Linear Regression:"
   ]
  },
  {
   "cell_type": "code",
   "execution_count": 18,
   "metadata": {
    "ExecuteTime": {
     "end_time": "2020-10-02T14:10:35.662443Z",
     "start_time": "2020-10-02T14:10:35.659417Z"
    }
   },
   "outputs": [],
   "source": [
    "from sklearn.model_selection import train_test_split"
   ]
  },
  {
   "cell_type": "code",
   "execution_count": 41,
   "metadata": {
    "ExecuteTime": {
     "end_time": "2020-10-02T14:21:48.690010Z",
     "start_time": "2020-10-02T14:21:48.684215Z"
    }
   },
   "outputs": [],
   "source": [
    "X = train_set.loc[:,['Outlet_Establishment_Year', 'Item_MRP']].values\n",
    "y = train_set.loc[:,['Item_Outlet_Sales']].values"
   ]
  },
  {
   "cell_type": "code",
   "execution_count": 43,
   "metadata": {
    "ExecuteTime": {
     "end_time": "2020-10-02T14:21:55.298522Z",
     "start_time": "2020-10-02T14:21:55.287689Z"
    }
   },
   "outputs": [],
   "source": [
    "# spliting the dataset\n",
    "x_train, x_test, y_train, y_test = train_test_split(X,y, test_size = 0.2)"
   ]
  },
  {
   "cell_type": "code",
   "execution_count": 44,
   "metadata": {
    "ExecuteTime": {
     "end_time": "2020-10-02T14:21:56.159637Z",
     "start_time": "2020-10-02T14:21:56.137758Z"
    }
   },
   "outputs": [
    {
     "data": {
      "text/plain": [
       "LinearRegression(copy_X=True, fit_intercept=True, n_jobs=None, normalize=False)"
      ]
     },
     "execution_count": 44,
     "metadata": {},
     "output_type": "execute_result"
    }
   ],
   "source": [
    "# fitting the Linear Regression model\n",
    "from sklearn.linear_model import LinearRegression\n",
    "regressor = LinearRegression()\n",
    "regressor.fit(x_train, y_train)"
   ]
  },
  {
   "cell_type": "code",
   "execution_count": 45,
   "metadata": {
    "ExecuteTime": {
     "end_time": "2020-10-02T14:21:57.195563Z",
     "start_time": "2020-10-02T14:21:57.191522Z"
    }
   },
   "outputs": [
    {
     "data": {
      "text/plain": [
       "array([[2497.55346227],\n",
       "       [2696.50775934],\n",
       "       [ 696.23212984],\n",
       "       ...,\n",
       "       [2303.69261539],\n",
       "       [1353.83021752],\n",
       "       [2090.39252327]])"
      ]
     },
     "execution_count": 45,
     "metadata": {},
     "output_type": "execute_result"
    }
   ],
   "source": [
    "# Predicting on test set\n",
    "pred = regressor.predict(x_test)\n",
    "pred"
   ]
  },
  {
   "cell_type": "code",
   "execution_count": 47,
   "metadata": {
    "ExecuteTime": {
     "end_time": "2020-10-02T14:22:22.582703Z",
     "start_time": "2020-10-02T14:22:22.576508Z"
    }
   },
   "outputs": [
    {
     "data": {
      "text/plain": [
       "0.3297645566558769"
      ]
     },
     "execution_count": 47,
     "metadata": {},
     "output_type": "execute_result"
    }
   ],
   "source": [
    "# calculating score\n",
    "regressor.score(x_test, y_test)"
   ]
  },
  {
   "cell_type": "code",
   "execution_count": 46,
   "metadata": {
    "ExecuteTime": {
     "end_time": "2020-10-02T14:22:00.201719Z",
     "start_time": "2020-10-02T14:22:00.198293Z"
    }
   },
   "outputs": [
    {
     "data": {
      "text/plain": [
       "2026628.5667621796"
      ]
     },
     "execution_count": 46,
     "metadata": {},
     "output_type": "execute_result"
    }
   ],
   "source": [
    "# calculating mse\n",
    "mse = np.mean((pred - y_test)**2)\n",
    "mse"
   ]
  },
  {
   "cell_type": "markdown",
   "metadata": {},
   "source": [
    "Calculating coefficients of regressor i.e **w** and **b**"
   ]
  },
  {
   "cell_type": "code",
   "execution_count": 58,
   "metadata": {
    "ExecuteTime": {
     "end_time": "2020-10-02T14:43:18.918510Z",
     "start_time": "2020-10-02T14:43:18.906250Z"
    }
   },
   "outputs": [
    {
     "name": "stdout",
     "output_type": "stream",
     "text": [
      "coefficients:\n",
      "w1: -7.937511910627553, w2: 15.526972396278486\n",
      "intercept:\n",
      "c: 15850.948145404465\n"
     ]
    }
   ],
   "source": [
    "print(\"coefficients:\")\n",
    "print(f\"w1: {regressor.coef_[0][0]}, w2: {regressor.coef_[0][1]}\")\n",
    "print(\"intercept:\")\n",
    "print(f\"c: {regressor.intercept_[0]}\")"
   ]
  },
  {
   "cell_type": "markdown",
   "metadata": {},
   "source": [
    "## 6. Evaluating your Model – R square and adjusted R- square\n"
   ]
  },
  {
   "cell_type": "code",
   "execution_count": 59,
   "metadata": {
    "ExecuteTime": {
     "end_time": "2020-10-02T15:33:30.075460Z",
     "start_time": "2020-10-02T15:33:30.061535Z"
    }
   },
   "outputs": [
    {
     "data": {
      "text/plain": [
       "0.3297645566558769"
      ]
     },
     "execution_count": 59,
     "metadata": {},
     "output_type": "execute_result"
    }
   ],
   "source": [
    "# R-square test\n",
    "regressor.score(x_test, y_test)"
   ]
  },
  {
   "cell_type": "markdown",
   "metadata": {},
   "source": [
    "### Model 4 – Linear regression with more variables"
   ]
  },
  {
   "cell_type": "code",
   "execution_count": 66,
   "metadata": {
    "ExecuteTime": {
     "end_time": "2020-10-02T16:23:09.216952Z",
     "start_time": "2020-10-02T16:23:09.187311Z"
    }
   },
   "outputs": [],
   "source": [
    "# loading big mart sales dataset\n",
    "train_set = pd.read_csv('/home/garvit/Downloads/Compressed/bigmart-sales-data/Train.csv')\n",
    "test_set = pd.read_csv('/home/garvit/Downloads/Compressed/bigmart-sales-data/Test.csv')"
   ]
  },
  {
   "cell_type": "code",
   "execution_count": 69,
   "metadata": {
    "ExecuteTime": {
     "end_time": "2020-10-02T16:23:13.857119Z",
     "start_time": "2020-10-02T16:23:13.827035Z"
    }
   },
   "outputs": [
    {
     "name": "stdout",
     "output_type": "stream",
     "text": [
      "<class 'pandas.core.frame.DataFrame'>\n",
      "RangeIndex: 8523 entries, 0 to 8522\n",
      "Data columns (total 12 columns):\n",
      " #   Column                     Non-Null Count  Dtype  \n",
      "---  ------                     --------------  -----  \n",
      " 0   Item_Identifier            8523 non-null   object \n",
      " 1   Item_Weight                8523 non-null   float64\n",
      " 2   Item_Fat_Content           8523 non-null   object \n",
      " 3   Item_Visibility            8523 non-null   float64\n",
      " 4   Item_Type                  8523 non-null   object \n",
      " 5   Item_MRP                   8523 non-null   float64\n",
      " 6   Outlet_Identifier          8523 non-null   object \n",
      " 7   Outlet_Establishment_Year  8523 non-null   int64  \n",
      " 8   Outlet_Size                6113 non-null   object \n",
      " 9   Outlet_Location_Type       8523 non-null   object \n",
      " 10  Outlet_Type                8523 non-null   object \n",
      " 11  Item_Outlet_Sales          8523 non-null   float64\n",
      "dtypes: float64(4), int64(1), object(7)\n",
      "memory usage: 799.2+ KB\n"
     ]
    }
   ],
   "source": [
    "train_set.info()"
   ]
  },
  {
   "cell_type": "code",
   "execution_count": 68,
   "metadata": {
    "ExecuteTime": {
     "end_time": "2020-10-02T16:23:11.578738Z",
     "start_time": "2020-10-02T16:23:11.567674Z"
    }
   },
   "outputs": [],
   "source": [
    "# Handling missing value\n",
    "\n",
    "# train_set.dropna(inplace=True)\n",
    "train_set['Item_Weight'].fillna(train_set['Item_Weight'].mean(), inplace=True)"
   ]
  },
  {
   "cell_type": "code",
   "execution_count": 70,
   "metadata": {
    "ExecuteTime": {
     "end_time": "2020-10-02T16:23:16.551593Z",
     "start_time": "2020-10-02T16:23:16.540536Z"
    }
   },
   "outputs": [
    {
     "data": {
      "text/plain": [
       "LinearRegression(copy_X=True, fit_intercept=True, n_jobs=None, normalize=False)"
      ]
     },
     "execution_count": 70,
     "metadata": {},
     "output_type": "execute_result"
    }
   ],
   "source": [
    "from sklearn.model_selection import train_test_split\n",
    "\n",
    "X = train_set.loc[:,['Outlet_Establishment_Year','Item_MRP','Item_Weight']].values\n",
    "y = train_set['Item_Outlet_Sales'].values\n",
    "\n",
    "x_train, x_test, y_train, y_test = train_test_split(X,y)\n",
    "\n",
    "# fitting the Linear Regression model\n",
    "from sklearn.linear_model import LinearRegression\n",
    "regressor = LinearRegression()\n",
    "regressor.fit(x_train, y_train)\n"
   ]
  },
  {
   "cell_type": "code",
   "execution_count": 71,
   "metadata": {
    "ExecuteTime": {
     "end_time": "2020-10-02T16:24:15.518290Z",
     "start_time": "2020-10-02T16:24:15.514953Z"
    }
   },
   "outputs": [],
   "source": [
    "pred = regressor.predict(x_test)"
   ]
  },
  {
   "cell_type": "code",
   "execution_count": 72,
   "metadata": {
    "ExecuteTime": {
     "end_time": "2020-10-02T16:24:31.083964Z",
     "start_time": "2020-10-02T16:24:31.078675Z"
    }
   },
   "outputs": [
    {
     "data": {
      "text/plain": [
       "2103446.9719963465"
      ]
     },
     "execution_count": 72,
     "metadata": {},
     "output_type": "execute_result"
    }
   ],
   "source": [
    "# MSE\n",
    "np.mean((pred - y_test)**2)"
   ]
  },
  {
   "cell_type": "code",
   "execution_count": 81,
   "metadata": {
    "ExecuteTime": {
     "end_time": "2020-10-02T16:27:48.822680Z",
     "start_time": "2020-10-02T16:27:48.813037Z"
    }
   },
   "outputs": [
    {
     "data": {
      "text/html": [
       "<div>\n",
       "<style scoped>\n",
       "    .dataframe tbody tr th:only-of-type {\n",
       "        vertical-align: middle;\n",
       "    }\n",
       "\n",
       "    .dataframe tbody tr th {\n",
       "        vertical-align: top;\n",
       "    }\n",
       "\n",
       "    .dataframe thead th {\n",
       "        text-align: right;\n",
       "    }\n",
       "</style>\n",
       "<table border=\"1\" class=\"dataframe\">\n",
       "  <thead>\n",
       "    <tr style=\"text-align: right;\">\n",
       "      <th></th>\n",
       "      <th>0</th>\n",
       "      <th>Coefficient Estimate</th>\n",
       "    </tr>\n",
       "  </thead>\n",
       "  <tbody>\n",
       "    <tr>\n",
       "      <th>0</th>\n",
       "      <td>Item_Identifier</td>\n",
       "      <td>-9.085390</td>\n",
       "    </tr>\n",
       "    <tr>\n",
       "      <th>1</th>\n",
       "      <td>Item_Weight</td>\n",
       "      <td>15.550803</td>\n",
       "    </tr>\n",
       "    <tr>\n",
       "      <th>2</th>\n",
       "      <td>Item_Fat_Content</td>\n",
       "      <td>-2.718771</td>\n",
       "    </tr>\n",
       "  </tbody>\n",
       "</table>\n",
       "</div>"
      ],
      "text/plain": [
       "                  0  Coefficient Estimate\n",
       "0   Item_Identifier             -9.085390\n",
       "1       Item_Weight             15.550803\n",
       "2  Item_Fat_Content             -2.718771"
      ]
     },
     "execution_count": 81,
     "metadata": {},
     "output_type": "execute_result"
    }
   ],
   "source": [
    "## calculating coefficients\n",
    "\n",
    "coeff = pd.DataFrame(train_set.columns)\n",
    "coeff['Coefficient Estimate'] = pd.Series(regressor.coef_)\n",
    "coeff.iloc[:3,:]"
   ]
  },
  {
   "cell_type": "code",
   "execution_count": 82,
   "metadata": {
    "ExecuteTime": {
     "end_time": "2020-10-02T16:38:03.443297Z",
     "start_time": "2020-10-02T16:38:03.429718Z"
    }
   },
   "outputs": [
    {
     "data": {
      "text/plain": [
       "0.3070307140479742"
      ]
     },
     "execution_count": 82,
     "metadata": {},
     "output_type": "execute_result"
    }
   ],
   "source": [
    "# R- square\n",
    "regressor.score(x_test, y_test)"
   ]
  },
  {
   "cell_type": "markdown",
   "metadata": {},
   "source": [
    "## 7. Using all the features for prediction"
   ]
  },
  {
   "cell_type": "markdown",
   "metadata": {},
   "source": [
    "### Data Preprocessing"
   ]
  },
  {
   "cell_type": "code",
   "execution_count": 93,
   "metadata": {
    "ExecuteTime": {
     "end_time": "2020-10-02T17:32:27.798398Z",
     "start_time": "2020-10-02T17:32:27.755358Z"
    }
   },
   "outputs": [],
   "source": [
    "# Loading data\n",
    "# loading big mart sales dataset\n",
    "train_set = pd.read_csv('/home/garvit/Downloads/Compressed/bigmart-sales-data/Train.csv')\n",
    "test_set = pd.read_csv('/home/garvit/Downloads/Compressed/bigmart-sales-data/Test.csv')"
   ]
  },
  {
   "cell_type": "code",
   "execution_count": 94,
   "metadata": {
    "ExecuteTime": {
     "end_time": "2020-10-02T17:32:28.146674Z",
     "start_time": "2020-10-02T17:32:28.073022Z"
    }
   },
   "outputs": [],
   "source": [
    "# imputing missing values\n",
    "\n",
    "train_set['Item_Visibility'] = train_set['Item_Visibility'].replace(0,np.mean(train_set['Item_Visibility']))\n",
    "train_set['Outlet_Establishment_Year'] = 2013 - train_set['Outlet_Establishment_Year']\n",
    "train_set['Outlet_Size'].fillna('Small',inplace=True)\n",
    "train_set['Item_Weight'].fillna(train_set['Item_Weight'].mean(), inplace=True)\n",
    "\n",
    "# creating dummy variables to convert categorical into numeric values\n",
    "mylist = list(train_set.select_dtypes(include=['object']).columns)\n",
    "dummies = pd.get_dummies(train_set[mylist], prefix= mylist)\n",
    "train_set.drop(mylist, axis=1, inplace = True)\n",
    "\n",
    "X = pd.concat([train_set,dummies], axis =1 )"
   ]
  },
  {
   "cell_type": "markdown",
   "metadata": {},
   "source": [
    "### Building the model"
   ]
  },
  {
   "cell_type": "code",
   "execution_count": 105,
   "metadata": {
    "ExecuteTime": {
     "end_time": "2020-10-02T17:46:23.760571Z",
     "start_time": "2020-10-02T17:46:23.740478Z"
    }
   },
   "outputs": [
    {
     "data": {
      "text/plain": [
       "0.31833414598455345"
      ]
     },
     "execution_count": 105,
     "metadata": {},
     "output_type": "execute_result"
    }
   ],
   "source": [
    "import numpy as np\n",
    "import pandas as pd\n",
    "from pandas import Series, DataFrame\n",
    "import matplotlib.pyplot as plt\n",
    "%matplotlib inline\n",
    "\n",
    "\n",
    "# importing linear regression\n",
    "from sklearn.linear_model import LinearRegression\n",
    "lreg = LinearRegression()\n",
    "\n",
    "# for cross validation\n",
    "from sklearn.model_selection import train_test_split\n",
    "X = train_set.drop('Item_Outlet_Sales',1)\n",
    "x_train, x_cv, y_train, y_cv = train_test_split(X,train_set.Item_Outlet_Sales, test_size =0.3)\n",
    "\n",
    "# training a linear regression model on train\n",
    "lreg.fit(x_train,y_train)\n",
    "\n",
    "# predicting on cv\n",
    "\n",
    "pred_cv = lreg.predict(x_cv)\n",
    "\n",
    "# calculating mse\n",
    "\n",
    "mse = np.mean((pred_cv - y_cv)**2)\n",
    "\n",
    "mse\n",
    "\n",
    "1348171.96\n",
    "\n",
    "# evaluation using r-square\n",
    "\n",
    "lreg.score(x_cv,y_cv)"
   ]
  },
  {
   "cell_type": "markdown",
   "metadata": {},
   "source": [
    "## 11. Ridge Regression"
   ]
  },
  {
   "cell_type": "code",
   "execution_count": 106,
   "metadata": {
    "ExecuteTime": {
     "end_time": "2020-10-02T17:46:25.765472Z",
     "start_time": "2020-10-02T17:46:25.752459Z"
    }
   },
   "outputs": [
    {
     "name": "stdout",
     "output_type": "stream",
     "text": [
      "mse:  2010043.2674506623\n"
     ]
    },
    {
     "data": {
      "text/plain": [
       "0.31843455945151977"
      ]
     },
     "execution_count": 106,
     "metadata": {},
     "output_type": "execute_result"
    }
   ],
   "source": [
    "from sklearn.linear_model import Ridge\n",
    "\n",
    "## training the model\n",
    "ridgeReg = Ridge(alpha=0.05, normalize=True)\n",
    "ridgeReg.fit(x_train,y_train)\n",
    "\n",
    "pred = ridgeReg.predict(x_cv)\n",
    "\n",
    "# calculating mse\n",
    "\n",
    "mse = np.mean((pred_cv - y_cv)**2)\n",
    "print(\"mse: \", mse)\n",
    "\n",
    "## calculating score \n",
    "ridgeReg.score(x_cv,y_cv)"
   ]
  },
  {
   "cell_type": "code",
   "execution_count": 107,
   "metadata": {
    "ExecuteTime": {
     "end_time": "2020-10-02T17:46:29.785638Z",
     "start_time": "2020-10-02T17:46:29.781506Z"
    }
   },
   "outputs": [
    {
     "data": {
      "text/plain": [
       "(5966, 4)"
      ]
     },
     "execution_count": 107,
     "metadata": {},
     "output_type": "execute_result"
    }
   ],
   "source": [
    "x_train.shape"
   ]
  },
  {
   "cell_type": "code",
   "execution_count": null,
   "metadata": {},
   "outputs": [],
   "source": []
  }
 ],
 "metadata": {
  "kernelspec": {
   "display_name": "Python 3",
   "language": "python",
   "name": "python3"
  },
  "language_info": {
   "codemirror_mode": {
    "name": "ipython",
    "version": 3
   },
   "file_extension": ".py",
   "mimetype": "text/x-python",
   "name": "python",
   "nbconvert_exporter": "python",
   "pygments_lexer": "ipython3",
   "version": "3.7.4"
  }
 },
 "nbformat": 4,
 "nbformat_minor": 4
}
